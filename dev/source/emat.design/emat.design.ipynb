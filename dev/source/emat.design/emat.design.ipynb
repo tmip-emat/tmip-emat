{
 "cells": [
  {
   "cell_type": "code",
   "execution_count": 1,
   "id": "f2a1233c",
   "metadata": {
    "execution": {
     "iopub.execute_input": "2025-01-10T19:55:27.358169Z",
     "iopub.status.busy": "2025-01-10T19:55:27.357749Z",
     "iopub.status.idle": "2025-01-10T19:55:29.312945Z",
     "shell.execute_reply": "2025-01-10T19:55:29.313075Z"
    }
   },
   "outputs": [
    {
     "name": "stdout",
     "output_type": "stream",
     "text": [
      "emat 0.6.4, plotly 5.24.1\n"
     ]
    }
   ],
   "source": [
    "import numpy as np\n",
    "import pandas as pd\n",
    "import emat\n",
    "emat.versions()"
   ]
  },
  {
   "cell_type": "raw",
   "id": "5bfbbaf2",
   "metadata": {
    "raw_mimetype": "text/restructuredtext"
   },
   "source": [
    ".. _methodology-experimental-design:"
   ]
  },
  {
   "cell_type": "markdown",
   "id": "b284bcf0",
   "metadata": {},
   "source": [
    "# Experimental Designs"
   ]
  },
  {
   "cell_type": "markdown",
   "id": "5579941f",
   "metadata": {},
   "source": [
    "A fundamental part of TMIP-EMAT is the development of a \"design of experiments\"\n",
    "to use in conjunction with a model. The experimental design lays out a list of \n",
    "model experiments to be conducted, and can be constructed in a number of different \n",
    "ways: it can be a systematic design, a random design, or something in between.\n",
    "\n",
    "Developing an experimental design using TMIP-EMAT requires that an exploratory\n",
    "scope is defined, to identify the model inputs and their potential values.  To \n",
    "illustrate designs, we'll work with the scope from the road test model."
   ]
  },
  {
   "cell_type": "code",
   "execution_count": 2,
   "id": "34ed14ec",
   "metadata": {
    "execution": {
     "iopub.execute_input": "2025-01-10T19:55:29.316214Z",
     "iopub.status.busy": "2025-01-10T19:55:29.315989Z",
     "iopub.status.idle": "2025-01-10T19:55:29.356323Z",
     "shell.execute_reply": "2025-01-10T19:55:29.356447Z"
    }
   },
   "outputs": [],
   "source": [
    "import emat.examples\n",
    "scope, db, model = emat.examples.road_test()"
   ]
  },
  {
   "cell_type": "raw",
   "id": "ccba0845",
   "metadata": {
    "raw_mimetype": "text/restructuredtext"
   },
   "source": [
    ".. _methodology-univariate-sensitivity:"
   ]
  },
  {
   "cell_type": "markdown",
   "id": "be839df1",
   "metadata": {},
   "source": [
    "## Univariate Sensitivity Tests"
   ]
  },
  {
   "cell_type": "markdown",
   "id": "faeaac68",
   "metadata": {},
   "source": [
    "One of the simplest experimental designs, and one used often in practice for \n",
    "transportation models, is a series of univariate sensitivity tests.  In this \n",
    "design, a set of baseline or default model inputs is used as a starting point,\n",
    "and then input parameters are changed one at a time to non-default values.\n",
    "Univariate sensitivity tests are excellent tools for debugging and quality checking\n",
    "the model code, as they allow modelers to confirm that each modeled input is \n",
    "(or is intentionally not) triggering some change in the model outputs.\n",
    "\n",
    "TMIP-EMAT provides the `design_sensitivity_tests` function to automatically \n",
    "generate a design of univariate sensitivity tests, given an exploratory scope.\n",
    "This tool will systematically generate experiments where all of the inputs but one are\n",
    "set to their default values, and the holdout input is then set to alternative values.\n",
    "For numerical inputs, the alternative values are the minimum or maximum\n",
    "value (one experiment for each, if they are different from the default). For categorical\n",
    "and boolean inputs, one experiment is created for each possible input value."
   ]
  },
  {
   "cell_type": "code",
   "execution_count": 3,
   "id": "10fbcd5f",
   "metadata": {
    "execution": {
     "iopub.execute_input": "2025-01-10T19:55:29.370843Z",
     "iopub.status.busy": "2025-01-10T19:55:29.360948Z",
     "iopub.status.idle": "2025-01-10T19:55:29.387438Z",
     "shell.execute_reply": "2025-01-10T19:55:29.387278Z"
    }
   },
   "outputs": [
    {
     "data": {
      "text/html": [
       "<div>\n",
       "<style scoped>\n",
       "    .dataframe tbody tr th:only-of-type {\n",
       "        vertical-align: middle;\n",
       "    }\n",
       "\n",
       "    .dataframe tbody tr th {\n",
       "        vertical-align: top;\n",
       "    }\n",
       "\n",
       "    .dataframe thead th {\n",
       "        text-align: right;\n",
       "    }\n",
       "</style>\n",
       "<table border=\"1\" class=\"dataframe\">\n",
       "  <thead>\n",
       "    <tr style=\"text-align: right;\">\n",
       "      <th></th>\n",
       "      <th>free_flow_time</th>\n",
       "      <th>initial_capacity</th>\n",
       "      <th>alpha</th>\n",
       "      <th>beta</th>\n",
       "      <th>input_flow</th>\n",
       "      <th>value_of_time</th>\n",
       "      <th>unit_cost_expansion</th>\n",
       "      <th>interest_rate</th>\n",
       "      <th>yield_curve</th>\n",
       "      <th>expand_capacity</th>\n",
       "      <th>amortization_period</th>\n",
       "      <th>debt_type</th>\n",
       "      <th>interest_rate_lock</th>\n",
       "    </tr>\n",
       "  </thead>\n",
       "  <tbody>\n",
       "    <tr>\n",
       "      <th>0</th>\n",
       "      <td>60</td>\n",
       "      <td>100</td>\n",
       "      <td>0.15</td>\n",
       "      <td>4.0</td>\n",
       "      <td>100</td>\n",
       "      <td>0.075</td>\n",
       "      <td>100</td>\n",
       "      <td>0.030</td>\n",
       "      <td>0.0100</td>\n",
       "      <td>10.0</td>\n",
       "      <td>30</td>\n",
       "      <td>GO Bond</td>\n",
       "      <td>False</td>\n",
       "    </tr>\n",
       "    <tr>\n",
       "      <th>1</th>\n",
       "      <td>60</td>\n",
       "      <td>100</td>\n",
       "      <td>0.10</td>\n",
       "      <td>4.0</td>\n",
       "      <td>100</td>\n",
       "      <td>0.075</td>\n",
       "      <td>100</td>\n",
       "      <td>0.030</td>\n",
       "      <td>0.0100</td>\n",
       "      <td>10.0</td>\n",
       "      <td>30</td>\n",
       "      <td>GO Bond</td>\n",
       "      <td>False</td>\n",
       "    </tr>\n",
       "    <tr>\n",
       "      <th>2</th>\n",
       "      <td>60</td>\n",
       "      <td>100</td>\n",
       "      <td>0.20</td>\n",
       "      <td>4.0</td>\n",
       "      <td>100</td>\n",
       "      <td>0.075</td>\n",
       "      <td>100</td>\n",
       "      <td>0.030</td>\n",
       "      <td>0.0100</td>\n",
       "      <td>10.0</td>\n",
       "      <td>30</td>\n",
       "      <td>GO Bond</td>\n",
       "      <td>False</td>\n",
       "    </tr>\n",
       "    <tr>\n",
       "      <th>3</th>\n",
       "      <td>60</td>\n",
       "      <td>100</td>\n",
       "      <td>0.15</td>\n",
       "      <td>3.5</td>\n",
       "      <td>100</td>\n",
       "      <td>0.075</td>\n",
       "      <td>100</td>\n",
       "      <td>0.030</td>\n",
       "      <td>0.0100</td>\n",
       "      <td>10.0</td>\n",
       "      <td>30</td>\n",
       "      <td>GO Bond</td>\n",
       "      <td>False</td>\n",
       "    </tr>\n",
       "    <tr>\n",
       "      <th>4</th>\n",
       "      <td>60</td>\n",
       "      <td>100</td>\n",
       "      <td>0.15</td>\n",
       "      <td>5.5</td>\n",
       "      <td>100</td>\n",
       "      <td>0.075</td>\n",
       "      <td>100</td>\n",
       "      <td>0.030</td>\n",
       "      <td>0.0100</td>\n",
       "      <td>10.0</td>\n",
       "      <td>30</td>\n",
       "      <td>GO Bond</td>\n",
       "      <td>False</td>\n",
       "    </tr>\n",
       "    <tr>\n",
       "      <th>5</th>\n",
       "      <td>60</td>\n",
       "      <td>100</td>\n",
       "      <td>0.15</td>\n",
       "      <td>4.0</td>\n",
       "      <td>80</td>\n",
       "      <td>0.075</td>\n",
       "      <td>100</td>\n",
       "      <td>0.030</td>\n",
       "      <td>0.0100</td>\n",
       "      <td>10.0</td>\n",
       "      <td>30</td>\n",
       "      <td>GO Bond</td>\n",
       "      <td>False</td>\n",
       "    </tr>\n",
       "    <tr>\n",
       "      <th>6</th>\n",
       "      <td>60</td>\n",
       "      <td>100</td>\n",
       "      <td>0.15</td>\n",
       "      <td>4.0</td>\n",
       "      <td>150</td>\n",
       "      <td>0.075</td>\n",
       "      <td>100</td>\n",
       "      <td>0.030</td>\n",
       "      <td>0.0100</td>\n",
       "      <td>10.0</td>\n",
       "      <td>30</td>\n",
       "      <td>GO Bond</td>\n",
       "      <td>False</td>\n",
       "    </tr>\n",
       "    <tr>\n",
       "      <th>7</th>\n",
       "      <td>60</td>\n",
       "      <td>100</td>\n",
       "      <td>0.15</td>\n",
       "      <td>4.0</td>\n",
       "      <td>100</td>\n",
       "      <td>0.001</td>\n",
       "      <td>100</td>\n",
       "      <td>0.030</td>\n",
       "      <td>0.0100</td>\n",
       "      <td>10.0</td>\n",
       "      <td>30</td>\n",
       "      <td>GO Bond</td>\n",
       "      <td>False</td>\n",
       "    </tr>\n",
       "    <tr>\n",
       "      <th>8</th>\n",
       "      <td>60</td>\n",
       "      <td>100</td>\n",
       "      <td>0.15</td>\n",
       "      <td>4.0</td>\n",
       "      <td>100</td>\n",
       "      <td>0.250</td>\n",
       "      <td>100</td>\n",
       "      <td>0.030</td>\n",
       "      <td>0.0100</td>\n",
       "      <td>10.0</td>\n",
       "      <td>30</td>\n",
       "      <td>GO Bond</td>\n",
       "      <td>False</td>\n",
       "    </tr>\n",
       "    <tr>\n",
       "      <th>9</th>\n",
       "      <td>60</td>\n",
       "      <td>100</td>\n",
       "      <td>0.15</td>\n",
       "      <td>4.0</td>\n",
       "      <td>100</td>\n",
       "      <td>0.075</td>\n",
       "      <td>95</td>\n",
       "      <td>0.030</td>\n",
       "      <td>0.0100</td>\n",
       "      <td>10.0</td>\n",
       "      <td>30</td>\n",
       "      <td>GO Bond</td>\n",
       "      <td>False</td>\n",
       "    </tr>\n",
       "    <tr>\n",
       "      <th>10</th>\n",
       "      <td>60</td>\n",
       "      <td>100</td>\n",
       "      <td>0.15</td>\n",
       "      <td>4.0</td>\n",
       "      <td>100</td>\n",
       "      <td>0.075</td>\n",
       "      <td>145</td>\n",
       "      <td>0.030</td>\n",
       "      <td>0.0100</td>\n",
       "      <td>10.0</td>\n",
       "      <td>30</td>\n",
       "      <td>GO Bond</td>\n",
       "      <td>False</td>\n",
       "    </tr>\n",
       "    <tr>\n",
       "      <th>11</th>\n",
       "      <td>60</td>\n",
       "      <td>100</td>\n",
       "      <td>0.15</td>\n",
       "      <td>4.0</td>\n",
       "      <td>100</td>\n",
       "      <td>0.075</td>\n",
       "      <td>100</td>\n",
       "      <td>0.025</td>\n",
       "      <td>0.0100</td>\n",
       "      <td>10.0</td>\n",
       "      <td>30</td>\n",
       "      <td>GO Bond</td>\n",
       "      <td>False</td>\n",
       "    </tr>\n",
       "    <tr>\n",
       "      <th>12</th>\n",
       "      <td>60</td>\n",
       "      <td>100</td>\n",
       "      <td>0.15</td>\n",
       "      <td>4.0</td>\n",
       "      <td>100</td>\n",
       "      <td>0.075</td>\n",
       "      <td>100</td>\n",
       "      <td>0.040</td>\n",
       "      <td>0.0100</td>\n",
       "      <td>10.0</td>\n",
       "      <td>30</td>\n",
       "      <td>GO Bond</td>\n",
       "      <td>False</td>\n",
       "    </tr>\n",
       "    <tr>\n",
       "      <th>13</th>\n",
       "      <td>60</td>\n",
       "      <td>100</td>\n",
       "      <td>0.15</td>\n",
       "      <td>4.0</td>\n",
       "      <td>100</td>\n",
       "      <td>0.075</td>\n",
       "      <td>100</td>\n",
       "      <td>0.030</td>\n",
       "      <td>-0.0025</td>\n",
       "      <td>10.0</td>\n",
       "      <td>30</td>\n",
       "      <td>GO Bond</td>\n",
       "      <td>False</td>\n",
       "    </tr>\n",
       "    <tr>\n",
       "      <th>14</th>\n",
       "      <td>60</td>\n",
       "      <td>100</td>\n",
       "      <td>0.15</td>\n",
       "      <td>4.0</td>\n",
       "      <td>100</td>\n",
       "      <td>0.075</td>\n",
       "      <td>100</td>\n",
       "      <td>0.030</td>\n",
       "      <td>0.0200</td>\n",
       "      <td>10.0</td>\n",
       "      <td>30</td>\n",
       "      <td>GO Bond</td>\n",
       "      <td>False</td>\n",
       "    </tr>\n",
       "    <tr>\n",
       "      <th>15</th>\n",
       "      <td>60</td>\n",
       "      <td>100</td>\n",
       "      <td>0.15</td>\n",
       "      <td>4.0</td>\n",
       "      <td>100</td>\n",
       "      <td>0.075</td>\n",
       "      <td>100</td>\n",
       "      <td>0.030</td>\n",
       "      <td>0.0100</td>\n",
       "      <td>0.0</td>\n",
       "      <td>30</td>\n",
       "      <td>GO Bond</td>\n",
       "      <td>False</td>\n",
       "    </tr>\n",
       "    <tr>\n",
       "      <th>16</th>\n",
       "      <td>60</td>\n",
       "      <td>100</td>\n",
       "      <td>0.15</td>\n",
       "      <td>4.0</td>\n",
       "      <td>100</td>\n",
       "      <td>0.075</td>\n",
       "      <td>100</td>\n",
       "      <td>0.030</td>\n",
       "      <td>0.0100</td>\n",
       "      <td>100.0</td>\n",
       "      <td>30</td>\n",
       "      <td>GO Bond</td>\n",
       "      <td>False</td>\n",
       "    </tr>\n",
       "    <tr>\n",
       "      <th>17</th>\n",
       "      <td>60</td>\n",
       "      <td>100</td>\n",
       "      <td>0.15</td>\n",
       "      <td>4.0</td>\n",
       "      <td>100</td>\n",
       "      <td>0.075</td>\n",
       "      <td>100</td>\n",
       "      <td>0.030</td>\n",
       "      <td>0.0100</td>\n",
       "      <td>10.0</td>\n",
       "      <td>15</td>\n",
       "      <td>GO Bond</td>\n",
       "      <td>False</td>\n",
       "    </tr>\n",
       "    <tr>\n",
       "      <th>18</th>\n",
       "      <td>60</td>\n",
       "      <td>100</td>\n",
       "      <td>0.15</td>\n",
       "      <td>4.0</td>\n",
       "      <td>100</td>\n",
       "      <td>0.075</td>\n",
       "      <td>100</td>\n",
       "      <td>0.030</td>\n",
       "      <td>0.0100</td>\n",
       "      <td>10.0</td>\n",
       "      <td>50</td>\n",
       "      <td>GO Bond</td>\n",
       "      <td>False</td>\n",
       "    </tr>\n",
       "    <tr>\n",
       "      <th>19</th>\n",
       "      <td>60</td>\n",
       "      <td>100</td>\n",
       "      <td>0.15</td>\n",
       "      <td>4.0</td>\n",
       "      <td>100</td>\n",
       "      <td>0.075</td>\n",
       "      <td>100</td>\n",
       "      <td>0.030</td>\n",
       "      <td>0.0100</td>\n",
       "      <td>10.0</td>\n",
       "      <td>30</td>\n",
       "      <td>Rev Bond</td>\n",
       "      <td>False</td>\n",
       "    </tr>\n",
       "    <tr>\n",
       "      <th>20</th>\n",
       "      <td>60</td>\n",
       "      <td>100</td>\n",
       "      <td>0.15</td>\n",
       "      <td>4.0</td>\n",
       "      <td>100</td>\n",
       "      <td>0.075</td>\n",
       "      <td>100</td>\n",
       "      <td>0.030</td>\n",
       "      <td>0.0100</td>\n",
       "      <td>10.0</td>\n",
       "      <td>30</td>\n",
       "      <td>Paygo</td>\n",
       "      <td>False</td>\n",
       "    </tr>\n",
       "    <tr>\n",
       "      <th>21</th>\n",
       "      <td>60</td>\n",
       "      <td>100</td>\n",
       "      <td>0.15</td>\n",
       "      <td>4.0</td>\n",
       "      <td>100</td>\n",
       "      <td>0.075</td>\n",
       "      <td>100</td>\n",
       "      <td>0.030</td>\n",
       "      <td>0.0100</td>\n",
       "      <td>10.0</td>\n",
       "      <td>30</td>\n",
       "      <td>GO Bond</td>\n",
       "      <td>True</td>\n",
       "    </tr>\n",
       "  </tbody>\n",
       "</table>\n",
       "</div>"
      ],
      "text/plain": [
       "    free_flow_time  initial_capacity  alpha  beta  input_flow  value_of_time  \\\n",
       "0               60               100   0.15   4.0         100          0.075   \n",
       "1               60               100   0.10   4.0         100          0.075   \n",
       "2               60               100   0.20   4.0         100          0.075   \n",
       "3               60               100   0.15   3.5         100          0.075   \n",
       "4               60               100   0.15   5.5         100          0.075   \n",
       "5               60               100   0.15   4.0          80          0.075   \n",
       "6               60               100   0.15   4.0         150          0.075   \n",
       "7               60               100   0.15   4.0         100          0.001   \n",
       "8               60               100   0.15   4.0         100          0.250   \n",
       "9               60               100   0.15   4.0         100          0.075   \n",
       "10              60               100   0.15   4.0         100          0.075   \n",
       "11              60               100   0.15   4.0         100          0.075   \n",
       "12              60               100   0.15   4.0         100          0.075   \n",
       "13              60               100   0.15   4.0         100          0.075   \n",
       "14              60               100   0.15   4.0         100          0.075   \n",
       "15              60               100   0.15   4.0         100          0.075   \n",
       "16              60               100   0.15   4.0         100          0.075   \n",
       "17              60               100   0.15   4.0         100          0.075   \n",
       "18              60               100   0.15   4.0         100          0.075   \n",
       "19              60               100   0.15   4.0         100          0.075   \n",
       "20              60               100   0.15   4.0         100          0.075   \n",
       "21              60               100   0.15   4.0         100          0.075   \n",
       "\n",
       "    unit_cost_expansion  interest_rate  yield_curve  expand_capacity  \\\n",
       "0                   100          0.030       0.0100             10.0   \n",
       "1                   100          0.030       0.0100             10.0   \n",
       "2                   100          0.030       0.0100             10.0   \n",
       "3                   100          0.030       0.0100             10.0   \n",
       "4                   100          0.030       0.0100             10.0   \n",
       "5                   100          0.030       0.0100             10.0   \n",
       "6                   100          0.030       0.0100             10.0   \n",
       "7                   100          0.030       0.0100             10.0   \n",
       "8                   100          0.030       0.0100             10.0   \n",
       "9                    95          0.030       0.0100             10.0   \n",
       "10                  145          0.030       0.0100             10.0   \n",
       "11                  100          0.025       0.0100             10.0   \n",
       "12                  100          0.040       0.0100             10.0   \n",
       "13                  100          0.030      -0.0025             10.0   \n",
       "14                  100          0.030       0.0200             10.0   \n",
       "15                  100          0.030       0.0100              0.0   \n",
       "16                  100          0.030       0.0100            100.0   \n",
       "17                  100          0.030       0.0100             10.0   \n",
       "18                  100          0.030       0.0100             10.0   \n",
       "19                  100          0.030       0.0100             10.0   \n",
       "20                  100          0.030       0.0100             10.0   \n",
       "21                  100          0.030       0.0100             10.0   \n",
       "\n",
       "    amortization_period debt_type  interest_rate_lock  \n",
       "0                    30   GO Bond               False  \n",
       "1                    30   GO Bond               False  \n",
       "2                    30   GO Bond               False  \n",
       "3                    30   GO Bond               False  \n",
       "4                    30   GO Bond               False  \n",
       "5                    30   GO Bond               False  \n",
       "6                    30   GO Bond               False  \n",
       "7                    30   GO Bond               False  \n",
       "8                    30   GO Bond               False  \n",
       "9                    30   GO Bond               False  \n",
       "10                   30   GO Bond               False  \n",
       "11                   30   GO Bond               False  \n",
       "12                   30   GO Bond               False  \n",
       "13                   30   GO Bond               False  \n",
       "14                   30   GO Bond               False  \n",
       "15                   30   GO Bond               False  \n",
       "16                   30   GO Bond               False  \n",
       "17                   15   GO Bond               False  \n",
       "18                   50   GO Bond               False  \n",
       "19                   30  Rev Bond               False  \n",
       "20                   30     Paygo               False  \n",
       "21                   30   GO Bond                True  "
      ]
     },
     "execution_count": 3,
     "metadata": {},
     "output_type": "execute_result"
    }
   ],
   "source": [
    "from emat.experiment.experimental_design import design_sensitivity_tests\n",
    "ust = design_sensitivity_tests(scope, design_name='univariate_tests')\n",
    "ust"
   ]
  },
  {
   "cell_type": "markdown",
   "id": "da3f4558",
   "metadata": {},
   "source": [
    "The output of this function is an `emat.ExperimentalDesign`, which is a subclass of \n",
    "a typical pandas DataFrame.  The `emat.ExperimentalDesign` subclass attaches some useful metadata to the \n",
    "actual contents of the design, namely: \n",
    "\n",
    "- `sampler_name`, which for univariate sensitivity test is `'uni'`, \n",
    "- `design_name`, a descriptive name for storing and retrieving experiments and results in a database, and\n",
    "- `scope`, which contains a reference to the scope used to define this design."
   ]
  },
  {
   "cell_type": "code",
   "execution_count": 4,
   "id": "1d51140a",
   "metadata": {
    "execution": {
     "iopub.execute_input": "2025-01-10T19:55:29.390488Z",
     "iopub.status.busy": "2025-01-10T19:55:29.390169Z",
     "iopub.status.idle": "2025-01-10T19:55:29.392991Z",
     "shell.execute_reply": "2025-01-10T19:55:29.392777Z"
    }
   },
   "outputs": [
    {
     "data": {
      "text/plain": [
       "True"
      ]
     },
     "execution_count": 4,
     "metadata": {},
     "output_type": "execute_result"
    }
   ],
   "source": [
    "ust.scope is scope"
   ]
  },
  {
   "cell_type": "code",
   "execution_count": 5,
   "id": "f8950105",
   "metadata": {
    "execution": {
     "iopub.execute_input": "2025-01-10T19:55:29.395827Z",
     "iopub.status.busy": "2025-01-10T19:55:29.395485Z",
     "iopub.status.idle": "2025-01-10T19:55:29.398205Z",
     "shell.execute_reply": "2025-01-10T19:55:29.398058Z"
    }
   },
   "outputs": [
    {
     "data": {
      "text/plain": [
       "'uni'"
      ]
     },
     "execution_count": 5,
     "metadata": {},
     "output_type": "execute_result"
    }
   ],
   "source": [
    "ust.sampler_name"
   ]
  },
  {
   "cell_type": "code",
   "execution_count": 6,
   "id": "dcb88bce",
   "metadata": {
    "execution": {
     "iopub.execute_input": "2025-01-10T19:55:29.400973Z",
     "iopub.status.busy": "2025-01-10T19:55:29.400658Z",
     "iopub.status.idle": "2025-01-10T19:55:29.403142Z",
     "shell.execute_reply": "2025-01-10T19:55:29.403275Z"
    }
   },
   "outputs": [
    {
     "data": {
      "text/plain": [
       "'univariate_tests'"
      ]
     },
     "execution_count": 6,
     "metadata": {},
     "output_type": "execute_result"
    }
   ],
   "source": [
    "ust.design_name"
   ]
  },
  {
   "cell_type": "raw",
   "id": "fab7dbeb",
   "metadata": {
    "raw_mimetype": "text/restructuredtext"
   },
   "source": [
    ".. _methodology-latin-hypercube:"
   ]
  },
  {
   "cell_type": "markdown",
   "id": "5ecb683d",
   "metadata": {},
   "source": [
    "## Efficient Designs"
   ]
  },
  {
   "cell_type": "markdown",
   "id": "5689dfd6",
   "metadata": {},
   "source": [
    "The univariate tests, while useful for model debugging and testing, are not the best choice for exploratory modeling, where we want to consider changing many input factors at once. To support multivariate exploratation, TMIP-EMAT includes a design_experiments function that offers several different multivariate samplers."
   ]
  },
  {
   "cell_type": "code",
   "execution_count": 7,
   "id": "f086b572",
   "metadata": {
    "execution": {
     "iopub.execute_input": "2025-01-10T19:55:29.405825Z",
     "iopub.status.busy": "2025-01-10T19:55:29.405564Z",
     "iopub.status.idle": "2025-01-10T19:55:29.407463Z",
     "shell.execute_reply": "2025-01-10T19:55:29.407333Z"
    }
   },
   "outputs": [],
   "source": [
    "from emat.experiment.experimental_design import design_experiments"
   ]
  },
  {
   "cell_type": "markdown",
   "id": "7a50272e",
   "metadata": {},
   "source": [
    "The default multivariate sampler is a basic Latin Hypercube sampler. Meta-models for deterministic simulation experiments, such as a TDM, are best supported by a “space filling” design of experiments, such as Latin Hypercube draws (Sacks, Welch, Mitchell, & Wynn, 1989). \n",
    "\n",
    "A Latin Hypercube sample for one dimension is constructed by subdividing the distribution of each input factor into N equally probable ranges, and drawing one random sample within each range. For example, if an input factor is assumed to be uniformly distributed between 0.1 and 0.2, that distribution can be divided into four regions (0.1-0.125, 0.125-0.15, 0.15-0.175, and 0.175-0.2), and one random draw can be made in each region. In the example below, we illustrate exactly this, for the \"alpha\" parameter in the demo scope."
   ]
  },
  {
   "cell_type": "code",
   "execution_count": 8,
   "id": "b5aac55f",
   "metadata": {
    "execution": {
     "iopub.execute_input": "2025-01-10T19:55:29.418203Z",
     "iopub.status.busy": "2025-01-10T19:55:29.417857Z",
     "iopub.status.idle": "2025-01-10T19:55:29.916664Z",
     "shell.execute_reply": "2025-01-10T19:55:29.916183Z"
    }
   },
   "outputs": [
    {
     "name": "stderr",
     "output_type": "stream",
     "text": [
      "/home/runner/work/tmip-emat/tmip-emat/.venv/lib/python3.10/site-packages/pandas/plotting/_matplotlib/core.py:1070: UserWarning:\n",
      "\n",
      "No data for colormapping provided via 'c'. Parameters 'cmap' will be ignored\n",
      "\n"
     ]
    },
    {
     "data": {
      "image/png": "[encoded data removed]",
      "text/plain": [
       "<Figure size 600x100 with 1 Axes>"
      ]
     },
     "metadata": {},
     "output_type": "display_data"
    }
   ],
   "source": [
    "n=4\n",
    "design = design_experiments(scope, n_samples=n, random_seed=0)\n",
    "ax = design.plot.scatter(x='alpha', y='initial_capacity', grid=True, figsize=(6,1))\n",
    "xlim = design.scope['alpha'].range\n",
    "ax.set_xlim(xlim)\n",
    "ax.set_xticks(np.linspace(*xlim, n+1))\n",
    "ax.set_ylabel('')\n",
    "ax.set_yticks([]);"
   ]
  },
  {
   "cell_type": "markdown",
   "id": "3bb7dce5",
   "metadata": {},
   "source": [
    "This ensures better coverage of the entire input range than making four random draws from the full space, which could easily result in a cluster of observations in one part of the space and large void elsewhere. \n",
    "\n",
    "Generating a multi-dimensional Latin Hypercube sample for use with multiple input variables follows this same basic technique, although the various draws in each dimension are randomly reordered before being joined with draws in other dimensions, to avoid unintended correlation. Various techniques exist to conduct this random reordering, although there is no agreement in the literature about the “best” orthogonal Latin hypercube design. In most instances, a simple random reordering is sufficient to get pretty good coverage of the space; this is the default in TMIP-EMAT. If a greater degree of orthogonality is desired, one simple method to achieve it is to generate numerous possible sets of random draws, and greedily select the set that minimizes the maximum correlation.\n",
    "\n",
    "In the figure below, we can see the result across two dimensions for the design of four draws we made previously.  Each dimension is divided in 4, so that each grid row and each grid column has exactly one experiment. "
   ]
  },
  {
   "cell_type": "code",
   "execution_count": 9,
   "id": "49d4bf19",
   "metadata": {
    "execution": {
     "iopub.execute_input": "2025-01-10T19:55:29.924385Z",
     "iopub.status.busy": "2025-01-10T19:55:29.922337Z",
     "iopub.status.idle": "2025-01-10T19:55:30.052266Z",
     "shell.execute_reply": "2025-01-10T19:55:30.051918Z"
    }
   },
   "outputs": [
    {
     "data": {
      "image/png": "[encoded data removed]",
      "text/plain": [
       "<Figure size 640x480 with 1 Axes>"
      ]
     },
     "metadata": {},
     "output_type": "display_data"
    }
   ],
   "source": [
    "ax = design.plot.scatter(x='expand_capacity', y='input_flow', grid=True)\n",
    "xlim = design.scope['expand_capacity'].range\n",
    "ylim = design.scope['input_flow'].range\n",
    "ax.set_xlim(xlim)\n",
    "ax.set_ylim(ylim)\n",
    "ax.set_xticks(np.linspace(*xlim, n+1))\n",
    "ax.set_yticks(np.linspace(*ylim, n+1));"
   ]
  },
  {
   "cell_type": "markdown",
   "id": "16d61237",
   "metadata": {},
   "source": [
    "The Latin Hypercube design of experiments is advantageous over a factorial or grid-based design, as every experimental observation can provide useful information, even when some input factors are potentially unimportant or spurious. \n",
    "\n",
    "As an example, consider the illustration below: 16 experiments are designed, either by making an evenly spaced grid over a two dimensional design space (i.e. a \"full factorial\" design) or by making the same number of latin hypercube draws."
   ]
  },
  {
   "cell_type": "code",
   "execution_count": 10,
   "id": "d5e55b0f",
   "metadata": {
    "execution": {
     "iopub.execute_input": "2025-01-10T19:55:30.064802Z",
     "iopub.status.busy": "2025-01-10T19:55:30.064320Z",
     "iopub.status.idle": "2025-01-10T19:55:30.225320Z",
     "shell.execute_reply": "2025-01-10T19:55:30.225016Z"
    }
   },
   "outputs": [
    {
     "data": {
      "image/png": "[encoded data removed]",
      "text/plain": [
       "<Figure size 640x480 with 1 Axes>"
      ]
     },
     "metadata": {},
     "output_type": "display_data"
    }
   ],
   "source": [
    "import itertools\n",
    "factorial = pd.DataFrame(\n",
    "    itertools.product(np.linspace(*design.scope['alpha'].range, 4),\n",
    "                      np.linspace(*design.scope['beta'].range, 4)), \n",
    "    columns=['alpha', 'beta']\n",
    ")\n",
    "lhs = design_experiments(scope, n_samples=16, random_seed=4)\n",
    "\n",
    "ax = factorial.plot.scatter('alpha', 'beta', color='r', s=40)\n",
    "lhs.plot.scatter('alpha', 'beta', marker='s', s=40, ax=ax);"
   ]
  },
  {
   "cell_type": "markdown",
   "id": "30fea122",
   "metadata": {},
   "source": [
    "If it turns out that the \"beta\" input is not particularly important for some model outputs,\n",
    "the information we are actually getting on those outputs will have been derived from inputs that\n",
    "look like this:"
   ]
  },
  {
   "cell_type": "code",
   "execution_count": 11,
   "id": "ea1178b2",
   "metadata": {
    "execution": {
     "iopub.execute_input": "2025-01-10T19:55:30.252176Z",
     "iopub.status.busy": "2025-01-10T19:55:30.251449Z",
     "iopub.status.idle": "2025-01-10T19:55:30.328496Z",
     "shell.execute_reply": "2025-01-10T19:55:30.328812Z"
    }
   },
   "outputs": [
    {
     "data": {
      "image/png": "[encoded data removed]",
      "text/plain": [
       "<Figure size 600x100 with 1 Axes>"
      ]
     },
     "metadata": {},
     "output_type": "display_data"
    }
   ],
   "source": [
    "factorial['beta'] = 0\n",
    "lhs['beta'] = 1\n",
    "ax = factorial.plot.scatter('alpha', 'beta', color='r', s=40, figsize=(6,1))\n",
    "lhs.plot.scatter('alpha', 'beta', marker='s', s=40, ax=ax)\n",
    "ax.set_ylim(-1,2)\n",
    "ax.set_ylabel('')\n",
    "ax.set_yticks([]);"
   ]
  },
  {
   "cell_type": "markdown",
   "id": "c894d8ff",
   "metadata": {},
   "source": [
    "Essentially only four unique experiments remain under the full factorial design,\n",
    "while the Latin hypercube design still offers useful variance over all 16 experiments."
   ]
  },
  {
   "cell_type": "markdown",
   "id": "635e8c4d",
   "metadata": {},
   "source": [
    "As for the sensitivity tests, the return type for the `design_experiments` function is `emat.ExperimentalDesign`.\n",
    "The result can be manipulated, saved, or reloaded as any other pandas DataFrame, which allows the the modeler to\n",
    "review an experimental design before actually running experiments."
   ]
  },
  {
   "cell_type": "code",
   "execution_count": 12,
   "id": "ad9222b4",
   "metadata": {
    "execution": {
     "iopub.execute_input": "2025-01-10T19:55:30.345614Z",
     "iopub.status.busy": "2025-01-10T19:55:30.345133Z",
     "iopub.status.idle": "2025-01-10T19:55:30.349848Z",
     "shell.execute_reply": "2025-01-10T19:55:30.350421Z"
    }
   },
   "outputs": [
    {
     "data": {
      "text/html": [
       "<div>\n",
       "<style scoped>\n",
       "    .dataframe tbody tr th:only-of-type {\n",
       "        vertical-align: middle;\n",
       "    }\n",
       "\n",
       "    .dataframe tbody tr th {\n",
       "        vertical-align: top;\n",
       "    }\n",
       "\n",
       "    .dataframe thead th {\n",
       "        text-align: right;\n",
       "    }\n",
       "</style>\n",
       "<table border=\"1\" class=\"dataframe\">\n",
       "  <thead>\n",
       "    <tr style=\"text-align: right;\">\n",
       "      <th></th>\n",
       "      <th>alpha</th>\n",
       "      <th>amortization_period</th>\n",
       "      <th>beta</th>\n",
       "      <th>debt_type</th>\n",
       "      <th>expand_capacity</th>\n",
       "      <th>input_flow</th>\n",
       "      <th>interest_rate</th>\n",
       "      <th>interest_rate_lock</th>\n",
       "      <th>unit_cost_expansion</th>\n",
       "      <th>value_of_time</th>\n",
       "      <th>yield_curve</th>\n",
       "      <th>free_flow_time</th>\n",
       "      <th>initial_capacity</th>\n",
       "    </tr>\n",
       "  </thead>\n",
       "  <tbody>\n",
       "    <tr>\n",
       "      <th>0</th>\n",
       "      <td>0.179365</td>\n",
       "      <td>24</td>\n",
       "      <td>1</td>\n",
       "      <td>GO Bond</td>\n",
       "      <td>80.162643</td>\n",
       "      <td>120</td>\n",
       "      <td>0.034792</td>\n",
       "      <td>False</td>\n",
       "      <td>140.962953</td>\n",
       "      <td>0.049228</td>\n",
       "      <td>0.007397</td>\n",
       "      <td>60</td>\n",
       "      <td>100</td>\n",
       "    </tr>\n",
       "    <tr>\n",
       "      <th>1</th>\n",
       "      <td>0.105645</td>\n",
       "      <td>33</td>\n",
       "      <td>1</td>\n",
       "      <td>GO Bond</td>\n",
       "      <td>64.671571</td>\n",
       "      <td>126</td>\n",
       "      <td>0.030968</td>\n",
       "      <td>False</td>\n",
       "      <td>107.579380</td>\n",
       "      <td>0.137505</td>\n",
       "      <td>0.013873</td>\n",
       "      <td>60</td>\n",
       "      <td>100</td>\n",
       "    </tr>\n",
       "    <tr>\n",
       "      <th>2</th>\n",
       "      <td>0.141456</td>\n",
       "      <td>40</td>\n",
       "      <td>1</td>\n",
       "      <td>GO Bond</td>\n",
       "      <td>87.868001</td>\n",
       "      <td>131</td>\n",
       "      <td>0.033288</td>\n",
       "      <td>True</td>\n",
       "      <td>104.801110</td>\n",
       "      <td>0.065576</td>\n",
       "      <td>0.012420</td>\n",
       "      <td>60</td>\n",
       "      <td>100</td>\n",
       "    </tr>\n",
       "    <tr>\n",
       "      <th>3</th>\n",
       "      <td>0.118782</td>\n",
       "      <td>26</td>\n",
       "      <td>1</td>\n",
       "      <td>Rev Bond</td>\n",
       "      <td>16.323886</td>\n",
       "      <td>104</td>\n",
       "      <td>0.037495</td>\n",
       "      <td>False</td>\n",
       "      <td>134.207518</td>\n",
       "      <td>0.097838</td>\n",
       "      <td>0.004853</td>\n",
       "      <td>60</td>\n",
       "      <td>100</td>\n",
       "    </tr>\n",
       "    <tr>\n",
       "      <th>4</th>\n",
       "      <td>0.128577</td>\n",
       "      <td>29</td>\n",
       "      <td>1</td>\n",
       "      <td>GO Bond</td>\n",
       "      <td>94.525091</td>\n",
       "      <td>146</td>\n",
       "      <td>0.038427</td>\n",
       "      <td>True</td>\n",
       "      <td>117.693257</td>\n",
       "      <td>0.107705</td>\n",
       "      <td>0.016380</td>\n",
       "      <td>60</td>\n",
       "      <td>100</td>\n",
       "    </tr>\n",
       "    <tr>\n",
       "      <th>5</th>\n",
       "      <td>0.158509</td>\n",
       "      <td>42</td>\n",
       "      <td>1</td>\n",
       "      <td>Paygo</td>\n",
       "      <td>54.747060</td>\n",
       "      <td>115</td>\n",
       "      <td>0.034314</td>\n",
       "      <td>True</td>\n",
       "      <td>142.451442</td>\n",
       "      <td>0.027920</td>\n",
       "      <td>0.010428</td>\n",
       "      <td>60</td>\n",
       "      <td>100</td>\n",
       "    </tr>\n",
       "    <tr>\n",
       "      <th>6</th>\n",
       "      <td>0.172526</td>\n",
       "      <td>36</td>\n",
       "      <td>1</td>\n",
       "      <td>Rev Bond</td>\n",
       "      <td>11.215146</td>\n",
       "      <td>139</td>\n",
       "      <td>0.037112</td>\n",
       "      <td>True</td>\n",
       "      <td>110.962472</td>\n",
       "      <td>0.063330</td>\n",
       "      <td>0.001749</td>\n",
       "      <td>60</td>\n",
       "      <td>100</td>\n",
       "    </tr>\n",
       "    <tr>\n",
       "      <th>7</th>\n",
       "      <td>0.114949</td>\n",
       "      <td>32</td>\n",
       "      <td>1</td>\n",
       "      <td>Paygo</td>\n",
       "      <td>83.803917</td>\n",
       "      <td>148</td>\n",
       "      <td>0.036221</td>\n",
       "      <td>False</td>\n",
       "      <td>126.533101</td>\n",
       "      <td>0.083207</td>\n",
       "      <td>0.015196</td>\n",
       "      <td>60</td>\n",
       "      <td>100</td>\n",
       "    </tr>\n",
       "    <tr>\n",
       "      <th>8</th>\n",
       "      <td>0.198825</td>\n",
       "      <td>47</td>\n",
       "      <td>1</td>\n",
       "      <td>Paygo</td>\n",
       "      <td>37.148734</td>\n",
       "      <td>88</td>\n",
       "      <td>0.030445</td>\n",
       "      <td>True</td>\n",
       "      <td>115.398483</td>\n",
       "      <td>0.092398</td>\n",
       "      <td>-0.001874</td>\n",
       "      <td>60</td>\n",
       "      <td>100</td>\n",
       "    </tr>\n",
       "    <tr>\n",
       "      <th>9</th>\n",
       "      <td>0.185078</td>\n",
       "      <td>19</td>\n",
       "      <td>1</td>\n",
       "      <td>Rev Bond</td>\n",
       "      <td>1.086124</td>\n",
       "      <td>108</td>\n",
       "      <td>0.025081</td>\n",
       "      <td>True</td>\n",
       "      <td>95.638473</td>\n",
       "      <td>0.044881</td>\n",
       "      <td>0.000090</td>\n",
       "      <td>60</td>\n",
       "      <td>100</td>\n",
       "    </tr>\n",
       "    <tr>\n",
       "      <th>10</th>\n",
       "      <td>0.151665</td>\n",
       "      <td>50</td>\n",
       "      <td>1</td>\n",
       "      <td>Rev Bond</td>\n",
       "      <td>24.641162</td>\n",
       "      <td>99</td>\n",
       "      <td>0.028835</td>\n",
       "      <td>True</td>\n",
       "      <td>136.540190</td>\n",
       "      <td>0.124668</td>\n",
       "      <td>0.006217</td>\n",
       "      <td>60</td>\n",
       "      <td>100</td>\n",
       "    </tr>\n",
       "    <tr>\n",
       "      <th>11</th>\n",
       "      <td>0.110274</td>\n",
       "      <td>15</td>\n",
       "      <td>1</td>\n",
       "      <td>Rev Bond</td>\n",
       "      <td>71.659310</td>\n",
       "      <td>92</td>\n",
       "      <td>0.032085</td>\n",
       "      <td>False</td>\n",
       "      <td>104.141210</td>\n",
       "      <td>0.169572</td>\n",
       "      <td>0.019213</td>\n",
       "      <td>60</td>\n",
       "      <td>100</td>\n",
       "    </tr>\n",
       "    <tr>\n",
       "      <th>12</th>\n",
       "      <td>0.136319</td>\n",
       "      <td>18</td>\n",
       "      <td>1</td>\n",
       "      <td>Rev Bond</td>\n",
       "      <td>29.768710</td>\n",
       "      <td>83</td>\n",
       "      <td>0.028615</td>\n",
       "      <td>True</td>\n",
       "      <td>98.688980</td>\n",
       "      <td>0.150877</td>\n",
       "      <td>0.004064</td>\n",
       "      <td>60</td>\n",
       "      <td>100</td>\n",
       "    </tr>\n",
       "    <tr>\n",
       "      <th>13</th>\n",
       "      <td>0.143869</td>\n",
       "      <td>45</td>\n",
       "      <td>1</td>\n",
       "      <td>GO Bond</td>\n",
       "      <td>60.955126</td>\n",
       "      <td>133</td>\n",
       "      <td>0.026766</td>\n",
       "      <td>False</td>\n",
       "      <td>125.126753</td>\n",
       "      <td>0.079968</td>\n",
       "      <td>0.008846</td>\n",
       "      <td>60</td>\n",
       "      <td>100</td>\n",
       "    </tr>\n",
       "    <tr>\n",
       "      <th>14</th>\n",
       "      <td>0.187749</td>\n",
       "      <td>37</td>\n",
       "      <td>1</td>\n",
       "      <td>Paygo</td>\n",
       "      <td>49.882562</td>\n",
       "      <td>96</td>\n",
       "      <td>0.039660</td>\n",
       "      <td>False</td>\n",
       "      <td>129.689219</td>\n",
       "      <td>0.114333</td>\n",
       "      <td>0.017687</td>\n",
       "      <td>60</td>\n",
       "      <td>100</td>\n",
       "    </tr>\n",
       "    <tr>\n",
       "      <th>15</th>\n",
       "      <td>0.168406</td>\n",
       "      <td>22</td>\n",
       "      <td>1</td>\n",
       "      <td>Paygo</td>\n",
       "      <td>43.582987</td>\n",
       "      <td>118</td>\n",
       "      <td>0.027771</td>\n",
       "      <td>False</td>\n",
       "      <td>121.363034</td>\n",
       "      <td>0.018184</td>\n",
       "      <td>0.001277</td>\n",
       "      <td>60</td>\n",
       "      <td>100</td>\n",
       "    </tr>\n",
       "  </tbody>\n",
       "</table>\n",
       "</div>"
      ],
      "text/plain": [
       "       alpha  amortization_period  beta debt_type  expand_capacity  \\\n",
       "0   0.179365                   24     1   GO Bond        80.162643   \n",
       "1   0.105645                   33     1   GO Bond        64.671571   \n",
       "2   0.141456                   40     1   GO Bond        87.868001   \n",
       "3   0.118782                   26     1  Rev Bond        16.323886   \n",
       "4   0.128577                   29     1   GO Bond        94.525091   \n",
       "5   0.158509                   42     1     Paygo        54.747060   \n",
       "6   0.172526                   36     1  Rev Bond        11.215146   \n",
       "7   0.114949                   32     1     Paygo        83.803917   \n",
       "8   0.198825                   47     1     Paygo        37.148734   \n",
       "9   0.185078                   19     1  Rev Bond         1.086124   \n",
       "10  0.151665                   50     1  Rev Bond        24.641162   \n",
       "11  0.110274                   15     1  Rev Bond        71.659310   \n",
       "12  0.136319                   18     1  Rev Bond        29.768710   \n",
       "13  0.143869                   45     1   GO Bond        60.955126   \n",
       "14  0.187749                   37     1     Paygo        49.882562   \n",
       "15  0.168406                   22     1     Paygo        43.582987   \n",
       "\n",
       "    input_flow  interest_rate  interest_rate_lock  unit_cost_expansion  \\\n",
       "0          120       0.034792               False           140.962953   \n",
       "1          126       0.030968               False           107.579380   \n",
       "2          131       0.033288                True           104.801110   \n",
       "3          104       0.037495               False           134.207518   \n",
       "4          146       0.038427                True           117.693257   \n",
       "5          115       0.034314                True           142.451442   \n",
       "6          139       0.037112                True           110.962472   \n",
       "7          148       0.036221               False           126.533101   \n",
       "8           88       0.030445                True           115.398483   \n",
       "9          108       0.025081                True            95.638473   \n",
       "10          99       0.028835                True           136.540190   \n",
       "11          92       0.032085               False           104.141210   \n",
       "12          83       0.028615                True            98.688980   \n",
       "13         133       0.026766               False           125.126753   \n",
       "14          96       0.039660               False           129.689219   \n",
       "15         118       0.027771               False           121.363034   \n",
       "\n",
       "    value_of_time  yield_curve  free_flow_time  initial_capacity  \n",
       "0        0.049228     0.007397              60               100  \n",
       "1        0.137505     0.013873              60               100  \n",
       "2        0.065576     0.012420              60               100  \n",
       "3        0.097838     0.004853              60               100  \n",
       "4        0.107705     0.016380              60               100  \n",
       "5        0.027920     0.010428              60               100  \n",
       "6        0.063330     0.001749              60               100  \n",
       "7        0.083207     0.015196              60               100  \n",
       "8        0.092398    -0.001874              60               100  \n",
       "9        0.044881     0.000090              60               100  \n",
       "10       0.124668     0.006217              60               100  \n",
       "11       0.169572     0.019213              60               100  \n",
       "12       0.150877     0.004064              60               100  \n",
       "13       0.079968     0.008846              60               100  \n",
       "14       0.114333     0.017687              60               100  \n",
       "15       0.018184     0.001277              60               100  "
      ]
     },
     "execution_count": 12,
     "metadata": {},
     "output_type": "execute_result"
    }
   ],
   "source": [
    "lhs"
   ]
  },
  {
   "cell_type": "raw",
   "id": "7ab7ad92",
   "metadata": {
    "raw_mimetype": "text/restructuredtext"
   },
   "source": [
    ".. _methodology-monte-carlo-design:"
   ]
  },
  {
   "cell_type": "markdown",
   "id": "469a736b",
   "metadata": {},
   "source": [
    "In addition to the default Latin Hypercube sampler, TMIP-EMAT also includes several other samplers,\n",
    "which can be invoked through the `sampler` argument of the `design_experiments` function:\n",
    "\n",
    "- `'ulhs'` is a \"uniform\" latin hypercube sampler, which ignores all defined distribution shapes and\n",
    "  correlations from the scope, instead using independent uniform distributions for all inputs. This \n",
    "  sampler is useful when designing experiments to support a meta-model for a risk analysis that \n",
    "  includes well characterized non-uniform uncertainties and correlations.\n",
    "- `'mc'` is a simple Monte Carlo sampler, which does not make attempts to ensure good coverage of the \n",
    "  sampling space. This sampler minimizes overhead and is useful when running a very large number of\n",
    "  simulations\n",
    "  \n"
   ]
  },
  {
   "cell_type": "raw",
   "id": "f773c443",
   "metadata": {
    "raw_mimetype": "text/restructuredtext"
   },
   "source": [
    ".. _methodology-reference-design:"
   ]
  },
  {
   "cell_type": "markdown",
   "id": "c54144e3",
   "metadata": {},
   "source": [
    "## Reference Designs"
   ]
  },
  {
   "cell_type": "markdown",
   "id": "e46e28c9",
   "metadata": {},
   "source": [
    "An additional convenience tool is included in TMIP-EMAT to create a \"reference\" design, which contains only a single experiment that has every input set at the default value.  Although this one experiment is also included in the univariate sensitivity test design, an analyst may not need or want to run that full design. Having the reference case available can be helpful to add context to some exploratory visualizations.  "
   ]
  },
  {
   "cell_type": "code",
   "execution_count": 13,
   "id": "8385a7e3",
   "metadata": {
    "execution": {
     "iopub.execute_input": "2025-01-10T19:55:30.361232Z",
     "iopub.status.busy": "2025-01-10T19:55:30.360884Z",
     "iopub.status.idle": "2025-01-10T19:55:30.364234Z",
     "shell.execute_reply": "2025-01-10T19:55:30.364071Z"
    }
   },
   "outputs": [
    {
     "data": {
      "text/html": [
       "<div>\n",
       "<style scoped>\n",
       "    .dataframe tbody tr th:only-of-type {\n",
       "        vertical-align: middle;\n",
       "    }\n",
       "\n",
       "    .dataframe tbody tr th {\n",
       "        vertical-align: top;\n",
       "    }\n",
       "\n",
       "    .dataframe thead th {\n",
       "        text-align: right;\n",
       "    }\n",
       "</style>\n",
       "<table border=\"1\" class=\"dataframe\">\n",
       "  <thead>\n",
       "    <tr style=\"text-align: right;\">\n",
       "      <th></th>\n",
       "      <th>free_flow_time</th>\n",
       "      <th>initial_capacity</th>\n",
       "      <th>alpha</th>\n",
       "      <th>beta</th>\n",
       "      <th>input_flow</th>\n",
       "      <th>value_of_time</th>\n",
       "      <th>unit_cost_expansion</th>\n",
       "      <th>interest_rate</th>\n",
       "      <th>yield_curve</th>\n",
       "      <th>expand_capacity</th>\n",
       "      <th>amortization_period</th>\n",
       "      <th>debt_type</th>\n",
       "      <th>interest_rate_lock</th>\n",
       "    </tr>\n",
       "  </thead>\n",
       "  <tbody>\n",
       "    <tr>\n",
       "      <th>0</th>\n",
       "      <td>60</td>\n",
       "      <td>100</td>\n",
       "      <td>0.15</td>\n",
       "      <td>4.0</td>\n",
       "      <td>100</td>\n",
       "      <td>0.075</td>\n",
       "      <td>100</td>\n",
       "      <td>0.03</td>\n",
       "      <td>0.01</td>\n",
       "      <td>10.0</td>\n",
       "      <td>30</td>\n",
       "      <td>GO Bond</td>\n",
       "      <td>False</td>\n",
       "    </tr>\n",
       "  </tbody>\n",
       "</table>\n",
       "</div>"
      ],
      "text/plain": [
       "   free_flow_time  initial_capacity  alpha  beta  input_flow  value_of_time  \\\n",
       "0              60               100   0.15   4.0         100          0.075   \n",
       "\n",
       "   unit_cost_expansion  interest_rate  yield_curve  expand_capacity  \\\n",
       "0                  100           0.03         0.01             10.0   \n",
       "\n",
       "   amortization_period debt_type  interest_rate_lock  \n",
       "0                   30   GO Bond               False  "
      ]
     },
     "execution_count": 13,
     "metadata": {},
     "output_type": "execute_result"
    }
   ],
   "source": [
    "from emat.experiment.experimental_design import design_refpoint_test\n",
    "design_refpoint_test(scope)"
   ]
  },
  {
   "cell_type": "raw",
   "id": "8a278ec3",
   "metadata": {
    "raw_mimetype": "text/restructuredtext"
   },
   "source": [
    ".. include:: design-api.irst"
   ]
  }
 ],
 "metadata": {
  "jupytext": {
   "encoding": "# -*- coding: utf-8 -*-",
   "formats": "ipynb,py:percent"
  },
  "kernelspec": {
   "display_name": "Python 3",
   "language": "python",
   "name": "python3"
  },
  "language_info": {
   "codemirror_mode": {
    "name": "ipython",
    "version": 3
   },
   "file_extension": ".py",
   "mimetype": "text/x-python",
   "name": "python",
   "nbconvert_exporter": "python",
   "pygments_lexer": "ipython3",
   "version": "3.10.16"
  },
  "widgets": {
   "application/vnd.jupyter.widget-state+json": {
    "state": {
     "c69fabadb6a149ecab76795073cdeae8": {
      "model_module": "@jupyter-widgets/base",
      "model_module_version": "2.0.0",
      "model_name": "LayoutModel",
      "state": {
       "_model_module": "@jupyter-widgets/base",
       "_model_module_version": "2.0.0",
       "_model_name": "LayoutModel",
       "_view_count": null,
       "_view_module": "@jupyter-widgets/base",
       "_view_module_version": "2.0.0",
       "_view_name": "LayoutView",
       "align_content": null,
       "align_items": null,
       "align_self": null,
       "border_bottom": null,
       "border_left": null,
       "border_right": null,
       "border_top": null,
       "bottom": null,
       "display": null,
       "flex": null,
       "flex_flow": null,
       "grid_area": null,
       "grid_auto_columns": null,
       "grid_auto_flow": null,
       "grid_auto_rows": null,
       "grid_column": null,
       "grid_gap": null,
       "grid_row": null,
       "grid_template_areas": null,
       "grid_template_columns": null,
       "grid_template_rows": null,
       "height": null,
       "justify_content": null,
       "justify_items": null,
       "left": null,
       "margin": null,
       "max_height": null,
       "max_width": null,
       "min_height": null,
       "min_width": null,
       "object_fit": null,
       "object_position": null,
       "order": null,
       "overflow": null,
       "padding": null,
       "right": null,
       "top": null,
       "visibility": null,
       "width": null
      }
     },
     "e65f974f5e8948299057d392954911c0": {
      "model_module": "@jupyter-widgets/base",
      "model_module_version": "2.0.0",
      "model_name": "LayoutModel",
      "state": {
       "_model_module": "@jupyter-widgets/base",
       "_model_module_version": "2.0.0",
       "_model_name": "LayoutModel",
       "_view_count": null,
       "_view_module": "@jupyter-widgets/base",
       "_view_module_version": "2.0.0",
       "_view_name": "LayoutView",
       "align_content": null,
       "align_items": null,
       "align_self": null,
       "border_bottom": null,
       "border_left": null,
       "border_right": null,
       "border_top": null,
       "bottom": null,
       "display": null,
       "flex": null,
       "flex_flow": null,
       "grid_area": null,
       "grid_auto_columns": null,
       "grid_auto_flow": null,
       "grid_auto_rows": null,
       "grid_column": null,
       "grid_gap": null,
       "grid_row": null,
       "grid_template_areas": null,
       "grid_template_columns": null,
       "grid_template_rows": null,
       "height": null,
       "justify_content": null,
       "justify_items": null,
       "left": null,
       "margin": null,
       "max_height": null,
       "max_width": null,
       "min_height": null,
       "min_width": null,
       "object_fit": null,
       "object_position": null,
       "order": null,
       "overflow": null,
       "padding": null,
       "right": null,
       "top": null,
       "visibility": null,
       "width": "250px"
      }
     }
    },
    "version_major": 2,
    "version_minor": 0
   }
  }
 },
 "nbformat": 4,
 "nbformat_minor": 5
}
