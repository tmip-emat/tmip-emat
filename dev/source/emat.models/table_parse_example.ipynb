{
 "cells": [
  {
   "cell_type": "code",
   "execution_count": 1,
   "metadata": {
    "execution": {
     "iopub.execute_input": "2025-01-10T19:57:22.209432Z",
     "iopub.status.busy": "2025-01-10T19:57:22.209193Z",
     "iopub.status.idle": "2025-01-10T19:57:24.153838Z",
     "shell.execute_reply": "2025-01-10T19:57:24.153631Z"
    }
   },
   "outputs": [],
   "source": [
    "import emat\n",
    "import pandas as pd"
   ]
  },
  {
   "cell_type": "markdown",
   "metadata": {},
   "source": [
    "# TableParser Example\n",
    "\n",
    "In this notebook, we will illustrate the use of a TableParser with \n",
    "a few simple examples.  "
   ]
  },
  {
   "cell_type": "code",
   "execution_count": 2,
   "metadata": {
    "execution": {
     "iopub.execute_input": "2025-01-10T19:57:24.156954Z",
     "iopub.status.busy": "2025-01-10T19:57:24.156605Z",
     "iopub.status.idle": "2025-01-10T19:57:24.158842Z",
     "shell.execute_reply": "2025-01-10T19:57:24.158713Z"
    }
   },
   "outputs": [],
   "source": [
    "from emat.model.core_files.parsers import (\n",
    "    TableParser,\n",
    "    loc, loc_sum, loc_mean,\n",
    "    iloc, iloc_sum, iloc_mean\n",
    ")"
   ]
  },
  {
   "cell_type": "markdown",
   "metadata": {},
   "source": [
    "## Parsing a Labeled Table\n",
    "\n",
    "First, let's consider a TableParser for extracting values from a \n",
    "simple CSV table of traffic counts by time period.  We'll begin \n",
    "by writing such a table as a temporary file to be processed:"
   ]
  },
  {
   "cell_type": "code",
   "execution_count": 3,
   "metadata": {
    "execution": {
     "iopub.execute_input": "2025-01-10T19:57:24.161715Z",
     "iopub.status.busy": "2025-01-10T19:57:24.161473Z",
     "iopub.status.idle": "2025-01-10T19:57:24.164028Z",
     "shell.execute_reply": "2025-01-10T19:57:24.163818Z"
    }
   },
   "outputs": [],
   "source": [
    "sample_file_labeled_table = \"\"\"\n",
    "LinkID,Count_AM,Count_MD,Count_PM,Count_EV\n",
    "123,3498,2340,3821,1820\n",
    "234,4011,2513,4101,1942\n",
    "345,386,103,441,251\n",
    "\"\"\"\n",
    "\n",
    "with open('/tmp/emat_sample_file_labeled_table.csv', 'wt') as f:\n",
    "    f.write(sample_file_labeled_table)"
   ]
  },
  {
   "cell_type": "markdown",
   "metadata": {},
   "source": [
    "If we wanted to read this table one time, we could easily\n",
    "do so using `pandas.read_csv`:"
   ]
  },
  {
   "cell_type": "code",
   "execution_count": 4,
   "metadata": {
    "execution": {
     "iopub.execute_input": "2025-01-10T19:57:24.170822Z",
     "iopub.status.busy": "2025-01-10T19:57:24.166674Z",
     "iopub.status.idle": "2025-01-10T19:57:24.176849Z",
     "shell.execute_reply": "2025-01-10T19:57:24.176615Z"
    }
   },
   "outputs": [
    {
     "data": {
      "text/html": [
       "<div>\n",
       "<style scoped>\n",
       "    .dataframe tbody tr th:only-of-type {\n",
       "        vertical-align: middle;\n",
       "    }\n",
       "\n",
       "    .dataframe tbody tr th {\n",
       "        vertical-align: top;\n",
       "    }\n",
       "\n",
       "    .dataframe thead th {\n",
       "        text-align: right;\n",
       "    }\n",
       "</style>\n",
       "<table border=\"1\" class=\"dataframe\">\n",
       "  <thead>\n",
       "    <tr style=\"text-align: right;\">\n",
       "      <th></th>\n",
       "      <th>Count_AM</th>\n",
       "      <th>Count_MD</th>\n",
       "      <th>Count_PM</th>\n",
       "      <th>Count_EV</th>\n",
       "    </tr>\n",
       "    <tr>\n",
       "      <th>LinkID</th>\n",
       "      <th></th>\n",
       "      <th></th>\n",
       "      <th></th>\n",
       "      <th></th>\n",
       "    </tr>\n",
       "  </thead>\n",
       "  <tbody>\n",
       "    <tr>\n",
       "      <th>123</th>\n",
       "      <td>3498</td>\n",
       "      <td>2340</td>\n",
       "      <td>3821</td>\n",
       "      <td>1820</td>\n",
       "    </tr>\n",
       "    <tr>\n",
       "      <th>234</th>\n",
       "      <td>4011</td>\n",
       "      <td>2513</td>\n",
       "      <td>4101</td>\n",
       "      <td>1942</td>\n",
       "    </tr>\n",
       "    <tr>\n",
       "      <th>345</th>\n",
       "      <td>386</td>\n",
       "      <td>103</td>\n",
       "      <td>441</td>\n",
       "      <td>251</td>\n",
       "    </tr>\n",
       "  </tbody>\n",
       "</table>\n",
       "</div>"
      ],
      "text/plain": [
       "        Count_AM  Count_MD  Count_PM  Count_EV\n",
       "LinkID                                        \n",
       "123         3498      2340      3821      1820\n",
       "234         4011      2513      4101      1942\n",
       "345          386       103       441       251"
      ]
     },
     "execution_count": 4,
     "metadata": {},
     "output_type": "execute_result"
    }
   ],
   "source": [
    "df = pd.read_csv('/tmp/emat_sample_file_labeled_table.csv', index_col='LinkID')\n",
    "df"
   ]
  },
  {
   "cell_type": "markdown",
   "metadata": {},
   "source": [
    "It is then simple to manually extract individual values by label,\n",
    "or by position, or we could extract a row total to get a daily \n",
    "total count for a link, or take the mean of a column:"
   ]
  },
  {
   "cell_type": "code",
   "execution_count": 5,
   "metadata": {
    "execution": {
     "iopub.execute_input": "2025-01-10T19:57:24.181156Z",
     "iopub.status.busy": "2025-01-10T19:57:24.180842Z",
     "iopub.status.idle": "2025-01-10T19:57:24.183506Z",
     "shell.execute_reply": "2025-01-10T19:57:24.183335Z"
    }
   },
   "outputs": [
    {
     "data": {
      "text/plain": [
       "{'A': 3498, 'B': 4011, 'C': 1181, 'D': 1652.0}"
      ]
     },
     "execution_count": 5,
     "metadata": {},
     "output_type": "execute_result"
    }
   ],
   "source": [
    "{\n",
    "    'A': df.loc[123,'Count_AM'],  # by label\n",
    "    'B': df.iloc[1,0],            # by position\n",
    "    'C': df.loc[345,:].sum(),     # sum a row\n",
    "    'D': df.iloc[:,1].mean(),     # mean of a column\n",
    "}"
   ]
  },
  {
   "cell_type": "markdown",
   "metadata": {},
   "source": [
    "The `TableParser` object makes it easy to combine these instructions\n",
    "to extract the same values from the same file in any model run."
   ]
  },
  {
   "cell_type": "code",
   "execution_count": 6,
   "metadata": {
    "execution": {
     "iopub.execute_input": "2025-01-10T19:57:24.186692Z",
     "iopub.status.busy": "2025-01-10T19:57:24.186353Z",
     "iopub.status.idle": "2025-01-10T19:57:24.188564Z",
     "shell.execute_reply": "2025-01-10T19:57:24.188354Z"
    }
   },
   "outputs": [],
   "source": [
    "parser = TableParser(\n",
    "    'emat_sample_file_labeled_table.csv',\n",
    "    {\n",
    "        'A': loc[123,'Count_AM'],  # by label\n",
    "        'B': iloc[1,0],            # by position\n",
    "        'C': loc_sum[345,:],       # sum a row\n",
    "        'D': iloc_mean[:,1],       # mean of a column\n",
    "    },\n",
    "    index_col='LinkID',  \n",
    ")"
   ]
  },
  {
   "cell_type": "markdown",
   "metadata": {},
   "source": [
    "We can now execute all these instructions by using the `read` method\n",
    "of the parser."
   ]
  },
  {
   "cell_type": "code",
   "execution_count": 7,
   "metadata": {
    "execution": {
     "iopub.execute_input": "2025-01-10T19:57:24.191112Z",
     "iopub.status.busy": "2025-01-10T19:57:24.190918Z",
     "iopub.status.idle": "2025-01-10T19:57:24.195883Z",
     "shell.execute_reply": "2025-01-10T19:57:24.195665Z"
    }
   },
   "outputs": [
    {
     "data": {
      "text/plain": [
       "{'A': 3498.0, 'B': 4011.0, 'C': 1181, 'D': 1652.0}"
      ]
     },
     "execution_count": 7,
     "metadata": {},
     "output_type": "execute_result"
    }
   ],
   "source": [
    "parser.read(from_dir='/tmp')"
   ]
  },
  {
   "cell_type": "markdown",
   "metadata": {},
   "source": [
    "Using the `TableParser` has some advantages over just writing a custom\n",
    "function for each table to be processed.  The most important is that\n",
    "we do not need to actually parse anything to access the names of the \n",
    "keys available in the parser's output."
   ]
  },
  {
   "cell_type": "code",
   "execution_count": 8,
   "metadata": {
    "execution": {
     "iopub.execute_input": "2025-01-10T19:57:24.198528Z",
     "iopub.status.busy": "2025-01-10T19:57:24.198339Z",
     "iopub.status.idle": "2025-01-10T19:57:24.201493Z",
     "shell.execute_reply": "2025-01-10T19:57:24.201349Z"
    }
   },
   "outputs": [
    {
     "data": {
      "text/plain": [
       "['A', 'B', 'C', 'D']"
      ]
     },
     "execution_count": 8,
     "metadata": {},
     "output_type": "execute_result"
    }
   ],
   "source": [
    "parser.measure_names"
   ]
  },
  {
   "cell_type": "markdown",
   "metadata": {},
   "source": [
    "## Parsing Labeled Values\n",
    "\n",
    "The `TableParser` can also be used to read performace measures \n",
    "from a file that contains simply a list of labeled values, as\n",
    "this can readily be interpreted as a table with one index column\n",
    "and a single data column."
   ]
  },
  {
   "cell_type": "code",
   "execution_count": 9,
   "metadata": {
    "execution": {
     "iopub.execute_input": "2025-01-10T19:57:24.204124Z",
     "iopub.status.busy": "2025-01-10T19:57:24.203920Z",
     "iopub.status.idle": "2025-01-10T19:57:24.206542Z",
     "shell.execute_reply": "2025-01-10T19:57:24.206295Z"
    }
   },
   "outputs": [],
   "source": [
    "sample_file_labeled_values = \"\"\"\n",
    "Mean Highway Speed (mph),56.34\n",
    "Mean Arterial Speed (mph),31.52\n",
    "Mean Collector Speed (mph),24.80\n",
    "\"\"\"\n",
    "\n",
    "with open('/tmp/emat_sample_file_labeled_values.csv', 'wt') as f:\n",
    "    f.write(sample_file_labeled_values)"
   ]
  },
  {
   "cell_type": "markdown",
   "metadata": {},
   "source": [
    "Reading this file with `pandas.read_csv` can be done neatly \n",
    "by giving a few extra keyword arguments:"
   ]
  },
  {
   "cell_type": "code",
   "execution_count": 10,
   "metadata": {
    "execution": {
     "iopub.execute_input": "2025-01-10T19:57:24.209173Z",
     "iopub.status.busy": "2025-01-10T19:57:24.208968Z",
     "iopub.status.idle": "2025-01-10T19:57:24.215574Z",
     "shell.execute_reply": "2025-01-10T19:57:24.215377Z"
    }
   },
   "outputs": [
    {
     "data": {
      "text/html": [
       "<div>\n",
       "<style scoped>\n",
       "    .dataframe tbody tr th:only-of-type {\n",
       "        vertical-align: middle;\n",
       "    }\n",
       "\n",
       "    .dataframe tbody tr th {\n",
       "        vertical-align: top;\n",
       "    }\n",
       "\n",
       "    .dataframe thead th {\n",
       "        text-align: right;\n",
       "    }\n",
       "</style>\n",
       "<table border=\"1\" class=\"dataframe\">\n",
       "  <thead>\n",
       "    <tr style=\"text-align: right;\">\n",
       "      <th></th>\n",
       "      <th>Value</th>\n",
       "    </tr>\n",
       "    <tr>\n",
       "      <th>Label</th>\n",
       "      <th></th>\n",
       "    </tr>\n",
       "  </thead>\n",
       "  <tbody>\n",
       "    <tr>\n",
       "      <th>Mean Highway Speed (mph)</th>\n",
       "      <td>56.34</td>\n",
       "    </tr>\n",
       "    <tr>\n",
       "      <th>Mean Arterial Speed (mph)</th>\n",
       "      <td>31.52</td>\n",
       "    </tr>\n",
       "    <tr>\n",
       "      <th>Mean Collector Speed (mph)</th>\n",
       "      <td>24.80</td>\n",
       "    </tr>\n",
       "  </tbody>\n",
       "</table>\n",
       "</div>"
      ],
      "text/plain": [
       "                            Value\n",
       "Label                            \n",
       "Mean Highway Speed (mph)    56.34\n",
       "Mean Arterial Speed (mph)   31.52\n",
       "Mean Collector Speed (mph)  24.80"
      ]
     },
     "execution_count": 10,
     "metadata": {},
     "output_type": "execute_result"
    }
   ],
   "source": [
    "pd.read_csv(\n",
    "    '/tmp/emat_sample_file_labeled_values.csv', \n",
    "    header=None, \n",
    "    names=['Label','Value'], \n",
    "    index_col=0,\n",
    ")"
   ]
  },
  {
   "cell_type": "markdown",
   "metadata": {},
   "source": [
    "We can simply pass these same keyword arguments on to the `TableParser`,\n",
    "and proceed as above to define the values to extract."
   ]
  },
  {
   "cell_type": "code",
   "execution_count": 11,
   "metadata": {
    "execution": {
     "iopub.execute_input": "2025-01-10T19:57:24.218487Z",
     "iopub.status.busy": "2025-01-10T19:57:24.218162Z",
     "iopub.status.idle": "2025-01-10T19:57:24.220386Z",
     "shell.execute_reply": "2025-01-10T19:57:24.220243Z"
    }
   },
   "outputs": [],
   "source": [
    "parser = TableParser(\n",
    "    'emat_sample_file_labeled_values.csv',\n",
    "    {\n",
    "        'Highway Speed': loc['Mean Highway Speed (mph)','Value']\n",
    "    },\n",
    "    header=None, \n",
    "    names=['Label','Value'], \n",
    "    index_col=0,\n",
    ")"
   ]
  },
  {
   "cell_type": "code",
   "execution_count": 12,
   "metadata": {
    "execution": {
     "iopub.execute_input": "2025-01-10T19:57:24.224464Z",
     "iopub.status.busy": "2025-01-10T19:57:24.222759Z",
     "iopub.status.idle": "2025-01-10T19:57:24.227261Z",
     "shell.execute_reply": "2025-01-10T19:57:24.227399Z"
    }
   },
   "outputs": [
    {
     "data": {
      "text/plain": [
       "{'Highway Speed': 56.34}"
      ]
     },
     "execution_count": 12,
     "metadata": {},
     "output_type": "execute_result"
    }
   ],
   "source": [
    "parser.read(from_dir='/tmp')"
   ]
  },
  {
   "cell_type": "markdown",
   "metadata": {},
   "source": [
    "## Parsing Labeled Values\n",
    "\n",
    "Lastly, the `TableParser` can be used to read performace measures \n",
    "from a file that contains an unlabeled array of values, as\n",
    "sometimes is generated from popular transportation modeling tools."
   ]
  },
  {
   "cell_type": "code",
   "execution_count": 13,
   "metadata": {
    "execution": {
     "iopub.execute_input": "2025-01-10T19:57:24.230287Z",
     "iopub.status.busy": "2025-01-10T19:57:24.229793Z",
     "iopub.status.idle": "2025-01-10T19:57:24.232377Z",
     "shell.execute_reply": "2025-01-10T19:57:24.232170Z"
    }
   },
   "outputs": [],
   "source": [
    "sample_file_unlabeled_array = \"\"\"\n",
    "11,22,33\n",
    "44,55,66\n",
    "77,88,99\n",
    "\"\"\"\n",
    "\n",
    "with open('/tmp/emat_sample_file_unlabeled_array.csv', 'wt') as f:\n",
    "    f.write(sample_file_unlabeled_array)"
   ]
  },
  {
   "cell_type": "markdown",
   "metadata": {},
   "source": [
    "The labels are not required to read this data using `pandas.read_csv`,\n",
    "as a default set of row and column index labels are generated."
   ]
  },
  {
   "cell_type": "code",
   "execution_count": 14,
   "metadata": {
    "execution": {
     "iopub.execute_input": "2025-01-10T19:57:24.238155Z",
     "iopub.status.busy": "2025-01-10T19:57:24.237853Z",
     "iopub.status.idle": "2025-01-10T19:57:24.241011Z",
     "shell.execute_reply": "2025-01-10T19:57:24.240806Z"
    }
   },
   "outputs": [
    {
     "data": {
      "text/html": [
       "<div>\n",
       "<style scoped>\n",
       "    .dataframe tbody tr th:only-of-type {\n",
       "        vertical-align: middle;\n",
       "    }\n",
       "\n",
       "    .dataframe tbody tr th {\n",
       "        vertical-align: top;\n",
       "    }\n",
       "\n",
       "    .dataframe thead th {\n",
       "        text-align: right;\n",
       "    }\n",
       "</style>\n",
       "<table border=\"1\" class=\"dataframe\">\n",
       "  <thead>\n",
       "    <tr style=\"text-align: right;\">\n",
       "      <th></th>\n",
       "      <th>0</th>\n",
       "      <th>1</th>\n",
       "      <th>2</th>\n",
       "    </tr>\n",
       "  </thead>\n",
       "  <tbody>\n",
       "    <tr>\n",
       "      <th>0</th>\n",
       "      <td>11</td>\n",
       "      <td>22</td>\n",
       "      <td>33</td>\n",
       "    </tr>\n",
       "    <tr>\n",
       "      <th>1</th>\n",
       "      <td>44</td>\n",
       "      <td>55</td>\n",
       "      <td>66</td>\n",
       "    </tr>\n",
       "    <tr>\n",
       "      <th>2</th>\n",
       "      <td>77</td>\n",
       "      <td>88</td>\n",
       "      <td>99</td>\n",
       "    </tr>\n",
       "  </tbody>\n",
       "</table>\n",
       "</div>"
      ],
      "text/plain": [
       "    0   1   2\n",
       "0  11  22  33\n",
       "1  44  55  66\n",
       "2  77  88  99"
      ]
     },
     "execution_count": 14,
     "metadata": {},
     "output_type": "execute_result"
    }
   ],
   "source": [
    "pd.read_csv(\n",
    "    '/tmp/emat_sample_file_unlabeled_array.csv', \n",
    "    header=None, \n",
    ")"
   ]
  },
  {
   "cell_type": "markdown",
   "metadata": {},
   "source": [
    "But the table is loaded, and individual values or slices can be \n",
    "taken using the `iloc` tool."
   ]
  },
  {
   "cell_type": "code",
   "execution_count": 15,
   "metadata": {
    "execution": {
     "iopub.execute_input": "2025-01-10T19:57:24.244142Z",
     "iopub.status.busy": "2025-01-10T19:57:24.243821Z",
     "iopub.status.idle": "2025-01-10T19:57:24.246028Z",
     "shell.execute_reply": "2025-01-10T19:57:24.245810Z"
    }
   },
   "outputs": [],
   "source": [
    "parser = TableParser(\n",
    "    'emat_sample_file_unlabeled_array.csv',\n",
    "    {\n",
    "        'upper_left': iloc[0,0],\n",
    "        'lower_right': iloc[-1,-1],\n",
    "        'partial_row': iloc_sum[0,1:],\n",
    "        'top_corner_sum': iloc[0,0] + iloc[0,-1],\n",
    "    },\n",
    "    header=None, \n",
    ")"
   ]
  },
  {
   "cell_type": "code",
   "execution_count": 16,
   "metadata": {
    "execution": {
     "iopub.execute_input": "2025-01-10T19:57:24.248624Z",
     "iopub.status.busy": "2025-01-10T19:57:24.248172Z",
     "iopub.status.idle": "2025-01-10T19:57:24.253330Z",
     "shell.execute_reply": "2025-01-10T19:57:24.253119Z"
    }
   },
   "outputs": [
    {
     "data": {
      "text/plain": [
       "{'upper_left': 11.0,\n",
       " 'lower_right': 99.0,\n",
       " 'partial_row': 55,\n",
       " 'top_corner_sum': 44.0}"
      ]
     },
     "execution_count": 16,
     "metadata": {},
     "output_type": "execute_result"
    }
   ],
   "source": [
    "parser.read(from_dir='/tmp')"
   ]
  }
 ],
 "metadata": {
  "kernelspec": {
   "display_name": "Python 3",
   "language": "python",
   "name": "python3"
  },
  "language_info": {
   "codemirror_mode": {
    "name": "ipython",
    "version": 3
   },
   "file_extension": ".py",
   "mimetype": "text/x-python",
   "name": "python",
   "nbconvert_exporter": "python",
   "pygments_lexer": "ipython3",
   "version": "3.10.16"
  },
  "widgets": {
   "application/vnd.jupyter.widget-state+json": {
    "state": {
     "6f53293c9a194161868cd5fc6528ba91": {
      "model_module": "@jupyter-widgets/base",
      "model_module_version": "2.0.0",
      "model_name": "LayoutModel",
      "state": {
       "_model_module": "@jupyter-widgets/base",
       "_model_module_version": "2.0.0",
       "_model_name": "LayoutModel",
       "_view_count": null,
       "_view_module": "@jupyter-widgets/base",
       "_view_module_version": "2.0.0",
       "_view_name": "LayoutView",
       "align_content": null,
       "align_items": null,
       "align_self": null,
       "border_bottom": null,
       "border_left": null,
       "border_right": null,
       "border_top": null,
       "bottom": null,
       "display": null,
       "flex": null,
       "flex_flow": null,
       "grid_area": null,
       "grid_auto_columns": null,
       "grid_auto_flow": null,
       "grid_auto_rows": null,
       "grid_column": null,
       "grid_gap": null,
       "grid_row": null,
       "grid_template_areas": null,
       "grid_template_columns": null,
       "grid_template_rows": null,
       "height": null,
       "justify_content": null,
       "justify_items": null,
       "left": null,
       "margin": null,
       "max_height": null,
       "max_width": null,
       "min_height": null,
       "min_width": null,
       "object_fit": null,
       "object_position": null,
       "order": null,
       "overflow": null,
       "padding": null,
       "right": null,
       "top": null,
       "visibility": null,
       "width": null
      }
     },
     "fbdf1055526941ed9505eeaa6cb54e00": {
      "model_module": "@jupyter-widgets/base",
      "model_module_version": "2.0.0",
      "model_name": "LayoutModel",
      "state": {
       "_model_module": "@jupyter-widgets/base",
       "_model_module_version": "2.0.0",
       "_model_name": "LayoutModel",
       "_view_count": null,
       "_view_module": "@jupyter-widgets/base",
       "_view_module_version": "2.0.0",
       "_view_name": "LayoutView",
       "align_content": null,
       "align_items": null,
       "align_self": null,
       "border_bottom": null,
       "border_left": null,
       "border_right": null,
       "border_top": null,
       "bottom": null,
       "display": null,
       "flex": null,
       "flex_flow": null,
       "grid_area": null,
       "grid_auto_columns": null,
       "grid_auto_flow": null,
       "grid_auto_rows": null,
       "grid_column": null,
       "grid_gap": null,
       "grid_row": null,
       "grid_template_areas": null,
       "grid_template_columns": null,
       "grid_template_rows": null,
       "height": null,
       "justify_content": null,
       "justify_items": null,
       "left": null,
       "margin": null,
       "max_height": null,
       "max_width": null,
       "min_height": null,
       "min_width": null,
       "object_fit": null,
       "object_position": null,
       "order": null,
       "overflow": null,
       "padding": null,
       "right": null,
       "top": null,
       "visibility": null,
       "width": "250px"
      }
     }
    },
    "version_major": 2,
    "version_minor": 0
   }
  }
 },
 "nbformat": 4,
 "nbformat_minor": 2
}
