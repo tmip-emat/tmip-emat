{
 "cells": [
  {
   "cell_type": "code",
   "execution_count": 1,
   "metadata": {
    "execution": {
     "iopub.execute_input": "2025-01-10T19:57:18.592542Z",
     "iopub.status.busy": "2025-01-10T19:57:18.592220Z",
     "iopub.status.idle": "2025-01-10T19:57:20.539928Z",
     "shell.execute_reply": "2025-01-10T19:57:20.539745Z"
    }
   },
   "outputs": [],
   "source": [
    "import emat\n",
    "import yaml\n",
    "import json"
   ]
  },
  {
   "cell_type": "markdown",
   "metadata": {},
   "source": [
    "# MappingParser Example\n",
    "\n",
    "In this notebook, we will illustrate the use of a MappingParser with \n",
    "a few simple examples.  "
   ]
  },
  {
   "cell_type": "code",
   "execution_count": 2,
   "metadata": {
    "execution": {
     "iopub.execute_input": "2025-01-10T19:57:20.542884Z",
     "iopub.status.busy": "2025-01-10T19:57:20.542572Z",
     "iopub.status.idle": "2025-01-10T19:57:20.544818Z",
     "shell.execute_reply": "2025-01-10T19:57:20.544673Z"
    }
   },
   "outputs": [],
   "source": [
    "from emat.model.core_files.parsers import (\n",
    "    MappingParser,\n",
    "    key\n",
    ")"
   ]
  },
  {
   "cell_type": "markdown",
   "metadata": {},
   "source": [
    "## Parsing a YAML File\n",
    "\n",
    "First, let's consider a `MappingParser` for extracting values from a \n",
    "simple YAML file of traffic counts by time period.  We'll begin \n",
    "by writing such a table as a temporary file to be processed:"
   ]
  },
  {
   "cell_type": "code",
   "execution_count": 3,
   "metadata": {
    "execution": {
     "iopub.execute_input": "2025-01-10T19:57:20.547923Z",
     "iopub.status.busy": "2025-01-10T19:57:20.547564Z",
     "iopub.status.idle": "2025-01-10T19:57:20.549972Z",
     "shell.execute_reply": "2025-01-10T19:57:20.549764Z"
    }
   },
   "outputs": [],
   "source": [
    "sample_file_yaml = \"\"\"\n",
    "---\n",
    "LinkID: 123\n",
    "LinkName: Yellow Brick Rd.\n",
    "Toll: 0.30\n",
    "Count_AM: 3498\n",
    "Count_MD: 2340\n",
    "Count_PM: 3821\n",
    "Count_EV: 1820\n",
    "...\n",
    "\"\"\"\n",
    "\n",
    "with open('/tmp/emat_sample_file.yml', 'wt') as f:\n",
    "    f.write(sample_file_yaml)"
   ]
  },
  {
   "cell_type": "markdown",
   "metadata": {},
   "source": [
    "If we wanted to read this YAML file one time, we could easily\n",
    "do so using `yaml.safe_load`:"
   ]
  },
  {
   "cell_type": "code",
   "execution_count": 4,
   "metadata": {
    "execution": {
     "iopub.execute_input": "2025-01-10T19:57:20.552560Z",
     "iopub.status.busy": "2025-01-10T19:57:20.552259Z",
     "iopub.status.idle": "2025-01-10T19:57:20.558888Z",
     "shell.execute_reply": "2025-01-10T19:57:20.558661Z"
    }
   },
   "outputs": [
    {
     "data": {
      "text/plain": [
       "{'LinkID': 123,\n",
       " 'LinkName': 'Yellow Brick Rd.',\n",
       " 'Toll': 0.3,\n",
       " 'Count_AM': 3498,\n",
       " 'Count_MD': 2340,\n",
       " 'Count_PM': 3821,\n",
       " 'Count_EV': 1820}"
      ]
     },
     "execution_count": 4,
     "metadata": {},
     "output_type": "execute_result"
    }
   ],
   "source": [
    "with open('/tmp/emat_sample_file.yml', 'rt') as fi: \n",
    "    mapping = yaml.safe_load(fi)\n",
    "    \n",
    "mapping"
   ]
  },
  {
   "cell_type": "markdown",
   "metadata": {},
   "source": [
    "It is then simple to manually extract individual values by label,\n",
    "or by position, or we could extract a row total to get a daily \n",
    "total count for a link, or take the mean of a column:"
   ]
  },
  {
   "cell_type": "code",
   "execution_count": 5,
   "metadata": {
    "execution": {
     "iopub.execute_input": "2025-01-10T19:57:20.561994Z",
     "iopub.status.busy": "2025-01-10T19:57:20.561796Z",
     "iopub.status.idle": "2025-01-10T19:57:20.564864Z",
     "shell.execute_reply": "2025-01-10T19:57:20.564717Z"
    }
   },
   "outputs": [
    {
     "data": {
      "text/plain": [
       "{'AM': 3498, 'PM': 3821, 'OffPeak': 4160}"
      ]
     },
     "execution_count": 5,
     "metadata": {},
     "output_type": "execute_result"
    }
   ],
   "source": [
    "{\n",
    "    'AM': mapping['Count_AM'],  # one key\n",
    "    'PM': mapping['Count_PM'],  \n",
    "    'OffPeak': mapping['Count_MD'] + mapping['Count_EV'],  # adding together keys\n",
    "}"
   ]
  },
  {
   "cell_type": "markdown",
   "metadata": {},
   "source": [
    "The `MappingParser` object makes it easy to combine these instructions\n",
    "to extract the same values from the same file in any model run."
   ]
  },
  {
   "cell_type": "code",
   "execution_count": 6,
   "metadata": {
    "execution": {
     "iopub.execute_input": "2025-01-10T19:57:20.567721Z",
     "iopub.status.busy": "2025-01-10T19:57:20.567402Z",
     "iopub.status.idle": "2025-01-10T19:57:20.569526Z",
     "shell.execute_reply": "2025-01-10T19:57:20.569397Z"
    }
   },
   "outputs": [],
   "source": [
    "parser = MappingParser(\n",
    "    'emat_sample_file.yml',\n",
    "    {\n",
    "        'AM': key['Count_AM'],  # one key\n",
    "        'PM': key['Count_PM'],  \n",
    "        'OffPeak': key['Count_MD'] + key['Count_EV'],  # adding together keys\n",
    "    },\n",
    ")"
   ]
  },
  {
   "cell_type": "markdown",
   "metadata": {},
   "source": [
    "We can now execute all these instructions by using the `read` method\n",
    "of the parser."
   ]
  },
  {
   "cell_type": "code",
   "execution_count": 7,
   "metadata": {
    "execution": {
     "iopub.execute_input": "2025-01-10T19:57:20.573388Z",
     "iopub.status.busy": "2025-01-10T19:57:20.573076Z",
     "iopub.status.idle": "2025-01-10T19:57:20.576066Z",
     "shell.execute_reply": "2025-01-10T19:57:20.575921Z"
    }
   },
   "outputs": [
    {
     "data": {
      "text/plain": [
       "{'AM': 3498.0, 'PM': 3821.0, 'OffPeak': 4160.0}"
      ]
     },
     "execution_count": 7,
     "metadata": {},
     "output_type": "execute_result"
    }
   ],
   "source": [
    "parser.read(from_dir='/tmp')"
   ]
  },
  {
   "cell_type": "markdown",
   "metadata": {},
   "source": [
    "Using the `MappingParser` has some advantages over just writing a custom\n",
    "function for each table to be processed.  The most important is that\n",
    "we do not need to actually parse anything to access the names of the \n",
    "keys available in the parser's output."
   ]
  },
  {
   "cell_type": "code",
   "execution_count": 8,
   "metadata": {
    "execution": {
     "iopub.execute_input": "2025-01-10T19:57:20.578793Z",
     "iopub.status.busy": "2025-01-10T19:57:20.578571Z",
     "iopub.status.idle": "2025-01-10T19:57:20.581619Z",
     "shell.execute_reply": "2025-01-10T19:57:20.581775Z"
    }
   },
   "outputs": [
    {
     "data": {
      "text/plain": [
       "['AM', 'OffPeak', 'PM']"
      ]
     },
     "execution_count": 8,
     "metadata": {},
     "output_type": "execute_result"
    }
   ],
   "source": [
    "parser.measure_names"
   ]
  },
  {
   "cell_type": "markdown",
   "metadata": {},
   "source": [
    "## Parsing a JSON File\n",
    "\n",
    "The default format for a `MappingParser` input file is YAML,\n",
    "which conveniently can also be used to read performace measures \n",
    "from a JSON file."
   ]
  },
  {
   "cell_type": "code",
   "execution_count": 9,
   "metadata": {
    "execution": {
     "iopub.execute_input": "2025-01-10T19:57:20.584227Z",
     "iopub.status.busy": "2025-01-10T19:57:20.584025Z",
     "iopub.status.idle": "2025-01-10T19:57:20.586614Z",
     "shell.execute_reply": "2025-01-10T19:57:20.586477Z"
    }
   },
   "outputs": [],
   "source": [
    "with open('/tmp/emat_sample_file.json', 'wt') as f:\n",
    "    json.dump(mapping, f)"
   ]
  },
  {
   "cell_type": "code",
   "execution_count": 10,
   "metadata": {
    "execution": {
     "iopub.execute_input": "2025-01-10T19:57:20.589514Z",
     "iopub.status.busy": "2025-01-10T19:57:20.589212Z",
     "iopub.status.idle": "2025-01-10T19:57:20.591374Z",
     "shell.execute_reply": "2025-01-10T19:57:20.591234Z"
    }
   },
   "outputs": [],
   "source": [
    "parser = MappingParser(\n",
    "    'emat_sample_file.json',\n",
    "    {\n",
    "        'AM': key['Count_AM'],  # one key\n",
    "        'PM': key['Count_PM'],  \n",
    "        'OffPeak': key['Count_MD'] + key['Count_EV'],  # adding together keys\n",
    "    },\n",
    ")"
   ]
  },
  {
   "cell_type": "code",
   "execution_count": 11,
   "metadata": {
    "execution": {
     "iopub.execute_input": "2025-01-10T19:57:20.595149Z",
     "iopub.status.busy": "2025-01-10T19:57:20.594844Z",
     "iopub.status.idle": "2025-01-10T19:57:20.597655Z",
     "shell.execute_reply": "2025-01-10T19:57:20.597772Z"
    }
   },
   "outputs": [
    {
     "data": {
      "text/plain": [
       "{'AM': 3498.0, 'PM': 3821.0, 'OffPeak': 4160.0}"
      ]
     },
     "execution_count": 11,
     "metadata": {},
     "output_type": "execute_result"
    }
   ],
   "source": [
    "parser.read(from_dir='/tmp')"
   ]
  },
  {
   "cell_type": "markdown",
   "metadata": {},
   "source": [
    "## Parsing other File Formats\n",
    "\n",
    "The `MappingParser` can also be used for other file types that can be read\n",
    "into a simple Python mapping.  For example, consider a mapping encoded as \n",
    "a `msgpack`."
   ]
  },
  {
   "cell_type": "code",
   "execution_count": 12,
   "metadata": {
    "execution": {
     "iopub.execute_input": "2025-01-10T19:57:20.600232Z",
     "iopub.status.busy": "2025-01-10T19:57:20.600042Z",
     "iopub.status.idle": "2025-01-10T19:57:20.602537Z",
     "shell.execute_reply": "2025-01-10T19:57:20.602695Z"
    }
   },
   "outputs": [],
   "source": [
    "import msgpack\n",
    "\n",
    "with open('/tmp/emat_sample_file.msgpk', 'wb') as f:\n",
    "    msgpack.dump(mapping, f)"
   ]
  },
  {
   "cell_type": "markdown",
   "metadata": {},
   "source": [
    "To parse this file, we'll need to write a small reader function that\n",
    "takes a filename and returns the raw mapping."
   ]
  },
  {
   "cell_type": "code",
   "execution_count": 13,
   "metadata": {
    "execution": {
     "iopub.execute_input": "2025-01-10T19:57:20.605393Z",
     "iopub.status.busy": "2025-01-10T19:57:20.605151Z",
     "iopub.status.idle": "2025-01-10T19:57:20.606910Z",
     "shell.execute_reply": "2025-01-10T19:57:20.607022Z"
    }
   },
   "outputs": [],
   "source": [
    "def msgpack_load(filename):\n",
    "    with open(filename, 'rb') as fi:\n",
    "        return msgpack.load(fi)\n"
   ]
  },
  {
   "cell_type": "markdown",
   "metadata": {},
   "source": [
    "Then we provide that reader function in the `reader_method` \n",
    "argument when constucting the MappingParser."
   ]
  },
  {
   "cell_type": "code",
   "execution_count": 14,
   "metadata": {
    "execution": {
     "iopub.execute_input": "2025-01-10T19:57:20.609866Z",
     "iopub.status.busy": "2025-01-10T19:57:20.609592Z",
     "iopub.status.idle": "2025-01-10T19:57:20.611578Z",
     "shell.execute_reply": "2025-01-10T19:57:20.611374Z"
    }
   },
   "outputs": [],
   "source": [
    "parser = MappingParser(\n",
    "    'emat_sample_file.msgpk',\n",
    "    {\n",
    "        'AM': key['Count_AM'],  # one key\n",
    "        'PM': key['Count_PM'],  \n",
    "        'OffPeak': key['Count_MD'] + key['Count_EV'],  # adding together keys\n",
    "    },\n",
    "    reader_method=msgpack_load\n",
    ")"
   ]
  },
  {
   "cell_type": "code",
   "execution_count": 15,
   "metadata": {
    "execution": {
     "iopub.execute_input": "2025-01-10T19:57:20.614609Z",
     "iopub.status.busy": "2025-01-10T19:57:20.614291Z",
     "iopub.status.idle": "2025-01-10T19:57:20.616840Z",
     "shell.execute_reply": "2025-01-10T19:57:20.616971Z"
    }
   },
   "outputs": [
    {
     "data": {
      "text/plain": [
       "{'AM': 3498.0, 'PM': 3821.0, 'OffPeak': 4160.0}"
      ]
     },
     "execution_count": 15,
     "metadata": {},
     "output_type": "execute_result"
    }
   ],
   "source": [
    "parser.read(from_dir='/tmp')"
   ]
  }
 ],
 "metadata": {
  "kernelspec": {
   "display_name": "Python 3",
   "language": "python",
   "name": "python3"
  },
  "language_info": {
   "codemirror_mode": {
    "name": "ipython",
    "version": 3
   },
   "file_extension": ".py",
   "mimetype": "text/x-python",
   "name": "python",
   "nbconvert_exporter": "python",
   "pygments_lexer": "ipython3",
   "version": "3.10.16"
  },
  "toc": {
   "base_numbering": 1,
   "nav_menu": {},
   "number_sections": true,
   "sideBar": true,
   "skip_h1_title": false,
   "title_cell": "Table of Contents",
   "title_sidebar": "Contents",
   "toc_cell": false,
   "toc_position": {},
   "toc_section_display": true,
   "toc_window_display": false
  },
  "widgets": {
   "application/vnd.jupyter.widget-state+json": {
    "state": {
     "5ae7eb66ae3549359b1a131548cb4f3c": {
      "model_module": "@jupyter-widgets/base",
      "model_module_version": "2.0.0",
      "model_name": "LayoutModel",
      "state": {
       "_model_module": "@jupyter-widgets/base",
       "_model_module_version": "2.0.0",
       "_model_name": "LayoutModel",
       "_view_count": null,
       "_view_module": "@jupyter-widgets/base",
       "_view_module_version": "2.0.0",
       "_view_name": "LayoutView",
       "align_content": null,
       "align_items": null,
       "align_self": null,
       "border_bottom": null,
       "border_left": null,
       "border_right": null,
       "border_top": null,
       "bottom": null,
       "display": null,
       "flex": null,
       "flex_flow": null,
       "grid_area": null,
       "grid_auto_columns": null,
       "grid_auto_flow": null,
       "grid_auto_rows": null,
       "grid_column": null,
       "grid_gap": null,
       "grid_row": null,
       "grid_template_areas": null,
       "grid_template_columns": null,
       "grid_template_rows": null,
       "height": null,
       "justify_content": null,
       "justify_items": null,
       "left": null,
       "margin": null,
       "max_height": null,
       "max_width": null,
       "min_height": null,
       "min_width": null,
       "object_fit": null,
       "object_position": null,
       "order": null,
       "overflow": null,
       "padding": null,
       "right": null,
       "top": null,
       "visibility": null,
       "width": "250px"
      }
     },
     "d742bd9872514e158c80d522c1ecb451": {
      "model_module": "@jupyter-widgets/base",
      "model_module_version": "2.0.0",
      "model_name": "LayoutModel",
      "state": {
       "_model_module": "@jupyter-widgets/base",
       "_model_module_version": "2.0.0",
       "_model_name": "LayoutModel",
       "_view_count": null,
       "_view_module": "@jupyter-widgets/base",
       "_view_module_version": "2.0.0",
       "_view_name": "LayoutView",
       "align_content": null,
       "align_items": null,
       "align_self": null,
       "border_bottom": null,
       "border_left": null,
       "border_right": null,
       "border_top": null,
       "bottom": null,
       "display": null,
       "flex": null,
       "flex_flow": null,
       "grid_area": null,
       "grid_auto_columns": null,
       "grid_auto_flow": null,
       "grid_auto_rows": null,
       "grid_column": null,
       "grid_gap": null,
       "grid_row": null,
       "grid_template_areas": null,
       "grid_template_columns": null,
       "grid_template_rows": null,
       "height": null,
       "justify_content": null,
       "justify_items": null,
       "left": null,
       "margin": null,
       "max_height": null,
       "max_width": null,
       "min_height": null,
       "min_width": null,
       "object_fit": null,
       "object_position": null,
       "order": null,
       "overflow": null,
       "padding": null,
       "right": null,
       "top": null,
       "visibility": null,
       "width": null
      }
     }
    },
    "version_major": 2,
    "version_minor": 0
   }
  }
 },
 "nbformat": 4,
 "nbformat_minor": 2
}
